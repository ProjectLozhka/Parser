{
 "cells": [
  {
   "cell_type": "code",
   "execution_count": 1851,
   "outputs": [],
   "source": [
    "def see_file(filename):\n",
    "    df = pd.read_csv(filename)\n",
    "    for i in range(len(df)):\n",
    "        text = df['article'][i]\n",
    "        print(text)"
   ],
   "metadata": {
    "collapsed": false
   }
  },
  {
   "cell_type": "code",
   "execution_count": 1852,
   "outputs": [],
   "source": [
    "import pandas as pd\n",
    "import re\n",
    "filename = \"D:\\\\university\\\\2course\\\\project\\\\clear of texts\\\\dsProject\\\\outastrophysics_0.csv\""
   ],
   "metadata": {
    "collapsed": false
   }
  },
  {
   "cell_type": "code",
   "execution_count": 1853,
   "outputs": [],
   "source": [
    "#огда известна точная концовка\n",
    "def delete_part_of_text(text, start, end, plusend):\n",
    "    if_part = text.find(start)\n",
    "    while if_part != -1:\n",
    "        end_of_part = text.find(end)\n",
    "        text = text[:if_part] + text[end_of_part + plusend:]\n",
    "        if_part = text.find(start)\n",
    "    return text"
   ],
   "metadata": {
    "collapsed": false
   }
  },
  {
   "cell_type": "code",
   "execution_count": 1854,
   "outputs": [],
   "source": [
    "#при поиске ближайшего символа окончания от старта тега\n",
    "def delete_tag(text, start, end):\n",
    "    if_link = text.find(start)\n",
    "    while if_link != -1:\n",
    "        end_of_link = text[if_link:].find(end)\n",
    "        #print(text[if_link:end_of_link + 1 + if_link])\n",
    "        text = text[:if_link] + text[end_of_link + 1 + if_link:]\n",
    "        if_link = text.find(start)\n",
    "    return text"
   ],
   "metadata": {
    "collapsed": false
   }
  },
  {
   "cell_type": "code",
   "execution_count": 1855,
   "outputs": [],
   "source": [
    "def find_ending(text):\n",
    "    if text.find('\\\\begin{references}'):\n",
    "        text = text[:text.find('\\\\begin{references}')]\n",
    "\n",
    "    if text.find('\\\\end{acknowledgements}'):\n",
    "        text = text.replace('\\\\begin{acknowledgements}', '')\n",
    "        text = text[:text.find('\\\\end{acknowledgements}')]\n",
    "\n",
    "    if text.find('\\\\begin{thebibliography}'):\n",
    "        text = text[:text.find('\\\\begin{thebibliography}')]\n",
    "    return text"
   ],
   "metadata": {
    "collapsed": false
   }
  },
  {
   "cell_type": "code",
   "execution_count": 1856,
   "outputs": [],
   "source": [
    "def find_start(text):\n",
    "    if text.find('\\\\abstract{') != -1:\n",
    "        text = text[text.find('\\\\abstract{'):]\n",
    "        text = text[text.find('}\\n')+2:]\n",
    "\n",
    "    elif text.find('\\\\begin{abstract}') != -1:\n",
    "        text = text[text.find('\\\\end{abstract}') + 14:]\n",
    "\n",
    "    if text.find('\\\\section{Introduction}') != -1:\n",
    "        text = text[text.find('\\\\section{Introduction}') + 23:]\n",
    "    return text"
   ],
   "metadata": {
    "collapsed": false
   }
  },
  {
   "cell_type": "code",
   "execution_count": 1857,
   "outputs": [],
   "source": [
    "#для удаления скобок, элементов \"окружающих\" текст\n",
    "def side_details(text, start, ending):\n",
    "    cursive = text.find(start)\n",
    "    while cursive != -1:\n",
    "        cursive_end = cursive + text[cursive:].find(ending)\n",
    "        text = text[:cursive] + text[cursive + len(start) : cursive_end] + text[cursive_end+1:]\n",
    "        cursive = text.find(start)\n",
    "    return text"
   ],
   "metadata": {
    "collapsed": false
   }
  },
  {
   "cell_type": "code",
   "execution_count": 1858,
   "outputs": [],
   "source": [
    "def clear(text):\n",
    "    text = find_start(text)\n",
    "\n",
    "    #поиск окончания основной части\n",
    "    text = find_ending(text)\n",
    "\n",
    "    text = delete_tag(text, '\\\\section{', '}')\n",
    "    text = delete_tag(text, '\\\\section {', '}')\n",
    "    text = delete_tag(text, '\\n\\subsection', '}')\n",
    "    text = delete_tag(text, '\\n\\subsubsection', '}')\n",
    "    #удаление ссылок на таблицы и рисунки\n",
    "    text = delete_tag(text, '\\\\ref{', '}')\n",
    "\n",
    "    mas = text.split('\\n')\n",
    "    i = 0\n",
    "    while i < len(mas):\n",
    "        if i >= 0 and mas[i].strip().startswith('%'):\n",
    "            #print(mas[i])\n",
    "            mas.remove(mas[i])\n",
    "            i -= 1\n",
    "        if i >= 0 and mas[i].strip().find('\\\\begin{deluxetable') == 0:\n",
    "            j = i\n",
    "            while j < len(mas) and mas[j].strip().find('\\\\end{deluxetable') != 0:\n",
    "                j += 1\n",
    "            #print(mas[i-1:j])\n",
    "            mas = mas[:i] + mas[j+1:]\n",
    "            i -= 1\n",
    "        if i >= 0 and i < len(mas) and mas[i].strip().startswith('\\\\begin{table'):\n",
    "            j = i\n",
    "            while j < len(mas) and (mas[j].strip().find('\\\\end{table') != 0 and mas[j].strip().find('\\\\end {table') != 0):\n",
    "                j += 1\n",
    "            #print(mas[i-1:j])\n",
    "            mas = mas[:i] + mas[j+1:]\n",
    "            i = 0\n",
    "        i += 1\n",
    "\n",
    "    text = '\\n'.join(mas)\n",
    "\n",
    "    text = delete_tag(text, '\\\\begin{figure', '\\\\end{figure')\n",
    "\n",
    "    #удаление % TABLE - оставшаяся часть таблиц\n",
    "    text = text.replace('\\n% TABLE\\n', '')\n",
    "\n",
    "    text = delete_tag(text, '\\n\\label', '}')\n",
    "    text = side_details(text, '{\\\\bf', '}')\n",
    "    text = side_details(text, '{\\\\underline', '}')\n",
    "    text = side_details(text, '{\\sl', '}')\n",
    "    text = side_details(text, '{\\sc', '}')\n",
    "    text = text.replace('\\\\begin{itemize}', '')\n",
    "    text = text.replace('\\\\end{itemize}', '')\n",
    "    text = text.replace('\\\\medskip', '')\n",
    "    text = text.replace('\\\\item ', '')\n",
    "    mas = text.split('\\n')\n",
    "    i = 0\n",
    "\n",
    "    while i < len(mas):\n",
    "        if mas[i].strip().startswith('%') and mas[i].strip().endswith('%') or (mas[i].strip().startswith('%\\end{tab')) or ('%%%%%' in mas[i]) or mas[i].strip().startswith('%\\\\begin{tab') or mas[i].strip().startswith('\\\\vskip') or ('end{figure') in mas[i].strip() or mas[i].strip().startswith('\\\\setcounter{table'):\n",
    "            #print(mas[i])\n",
    "            mas.remove(mas[i])\n",
    "            i -= 1\n",
    "        i += 1\n",
    "    text = '\\n'.join(mas)\n",
    "\n",
    "    text = delete_tag(text, '\\\\cite', '}')\n",
    "    text = text.replace('\\\\begin{enumerate}', '')\n",
    "    text = text.replace('\\\\end{enumerate}', '')\n",
    "    text = text.replace('\\\\noindent', '')\n",
    "    text = delete_tag(text, '\\\\figcaption', '}\\n')\n",
    "    text = delete_tag(text, '\\\\resizebox', '}\\n')\n",
    "    text = text.replace('\\\\acknowledgments', '')\n",
    "    text = side_details(text, '{\\\\it', '}')\n",
    "    text = side_details(text, '\\\\acknowledgement{', '}')\n",
    "    text = delete_tag(text, '%___', '_\\n')\n",
    "    text = delete_tag(text, '{\\\\footnotesize', '}\\n')\n",
    "    text = text.replace('\\pagebreak', '')\n",
    "\n",
    "    if text.find('\\\\begin{document}') != -1 and len((text[text.find('\\\\begin{document}'):text.find('\\\\end{document}')]).split()) < 10:\n",
    "        text = None\n",
    "\n",
    "    return text"
   ],
   "metadata": {
    "collapsed": false
   }
  },
  {
   "cell_type": "code",
   "execution_count": 1859,
   "outputs": [
    {
     "name": "stdout",
     "output_type": "stream",
     "text": [
      "   Unnamed: 0  Unnamed: 0.1  \\\n",
      "0           0             0   \n",
      "1           1             1   \n",
      "2           2             2   \n",
      "3           3             3   \n",
      "4           4             4   \n",
      "\n",
      "                                               Title  \\\n",
      "0  Title:\\r\\nSpectral variability in transonic di...   \n",
      "1  Title:\\r\\nThe Nature of the Emission Component...   \n",
      "2  Title:\\r\\nConstraints on the Cosmic Equation o...   \n",
      "3  Title:\\r\\nModel-independent insights into the ...   \n",
      "4  Title:\\r\\nThe First Detection of Cobalt in a D...   \n",
      "\n",
      "                                          Annotation  \\\n",
      "0  \\r\\nAbstract: Transonic discs with accretion r...   \n",
      "1  \\r\\nAbstract: We present the study of the emis...   \n",
      "2  \\r\\nAbstract: In this paper, observational con...   \n",
      "3  \\r\\nAbstract: Straightforward physical argumen...   \n",
      "4  \\r\\nAbstract: We present the first ever detect...   \n",
      "\n",
      "                                             PDF  \\\n",
      "0  https://export.arxiv.org/pdf/astro-ph/0104101   \n",
      "1  https://export.arxiv.org/pdf/astro-ph/0104352   \n",
      "2  https://export.arxiv.org/pdf/astro-ph/0104076   \n",
      "3  https://export.arxiv.org/pdf/astro-ph/0104272   \n",
      "4  https://export.arxiv.org/pdf/astro-ph/0104301   \n",
      "\n",
      "                                               Latex  \\\n",
      "0  %; mnsample.tex\\n%;\\n%; v1.2 released 5th Sept...   \n",
      "1  %Revised GMM Feb 24/2001\\n%\\documentclass[12pt...   \n",
      "2  %~~~~~~~~~~~~~~~~~~~~~~~~~~~~~~~~~~~~~~~~~~~~~...   \n",
      "3  %\\documentclass[manuscript]{aastex}\\n%\\documen...   \n",
      "4  \\documentclass{kluwer}    % Specifies the docu...   \n",
      "\n",
      "                                               clear  \n",
      "0  \\label{intro}\\n\\nObservations of Galactic blac...  \n",
      "1  \\nThe quasar PG1211+143 ($z=0.0809$;  Marziani...  \n",
      "2        \\nGravitational lens statistics and gala...  \n",
      "3  \\nThe \\lya\\ forest is thought to arise in the ...  \n",
      "4   \\n\\nThe study of elemental abundances in Damp...  \n",
      "1024\n"
     ]
    }
   ],
   "source": [
    "def see_file(filename):\n",
    "    df = pd.read_csv(filename)\n",
    "    cl = [0] * len(df)\n",
    "    for i in range(len(df)):\n",
    "        text = df['Latex'][i]\n",
    "        text = clear(text)\n",
    "        cl[i] = (text)\n",
    "    df['clear'] = cl\n",
    "    print(df.head())\n",
    "    print(len(df))\n",
    "    return(df)\n",
    "\n",
    "\n",
    "df = see_file(filename)\n",
    "#print(df.head())\n",
    "df.to_csv('base_with_clear_texts.csv')"
   ],
   "metadata": {
    "collapsed": false
   }
  },
  {
   "cell_type": "code",
   "execution_count": 1860,
   "outputs": [
    {
     "data": {
      "text/plain": "\"text = df['Latex'][612]\\nprint(df['PDF'][612])\\n#print(text)\\nwith open('text.txt', 'w', encoding='utf-8') as file:\\n    file.write(text)\\ntext = clear(text)\\nprint(text)\""
     },
     "execution_count": 1860,
     "metadata": {},
     "output_type": "execute_result"
    }
   ],
   "source": [
    "'''text = df['Latex'][612]\n",
    "print(df['PDF'][612])\n",
    "#print(text)\n",
    "with open('text.txt', 'w', encoding='utf-8') as file:\n",
    "    file.write(text)\n",
    "text = clear(text)\n",
    "print(text)'''"
   ],
   "metadata": {
    "collapsed": false
   }
  }
 ],
 "metadata": {
  "kernelspec": {
   "display_name": "Python 3",
   "language": "python",
   "name": "python3"
  },
  "language_info": {
   "codemirror_mode": {
    "name": "ipython",
    "version": 2
   },
   "file_extension": ".py",
   "mimetype": "text/x-python",
   "name": "python",
   "nbconvert_exporter": "python",
   "pygments_lexer": "ipython2",
   "version": "2.7.6"
  }
 },
 "nbformat": 4,
 "nbformat_minor": 0
}
